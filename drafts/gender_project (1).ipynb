{
  "cells": [
    {
      "cell_type": "markdown",
      "metadata": {
        "id": "qQl8umlO5qe8"
      },
      "source": [
        "# <center> Финальное задание </center>\n",
        "## <center> Предсказание пола клиента по транзакциям</center>\n",
        "\n",
        "## Описание задачи\n",
        "#### Ваше задание - предсказать пол клиента, основываясь на его транзакционных исторических данных. Выполнение финального задания - это маленький шаг в большую Data Science-всесенную, поэтому отнеситесь к нему максимально серьёзно :)\n",
        "#### В роли метрики выступает [ROC AUC](https://dyakonov.org/2017/07/28/auc-roc-%D0%BF%D0%BB%D0%BE%D1%89%D0%B0%D0%B4%D1%8C-%D0%BF%D0%BE%D0%B4-%D0%BA%D1%80%D0%B8%D0%B2%D0%BE%D0%B9-%D0%BE%D1%88%D0%B8%D0%B1%D0%BE%D0%BA/), который и нужно будет оптимизировать."
      ]
    },
    {
      "cell_type": "code",
      "execution_count": 1,
      "metadata": {
        "colab": {
          "base_uri": "https://localhost:8080/"
        },
        "id": "7WHogknn5qe9",
        "outputId": "cef6f50e-7b68-4d25-bbf4-51943361a690"
      },
      "outputs": [
        {
          "output_type": "stream",
          "name": "stdout",
          "text": [
            "Requirement already satisfied: xgboost in /usr/local/lib/python3.10/dist-packages (2.0.2)\n",
            "Requirement already satisfied: numpy in /usr/local/lib/python3.10/dist-packages (from xgboost) (1.23.5)\n",
            "Requirement already satisfied: scipy in /usr/local/lib/python3.10/dist-packages (from xgboost) (1.11.3)\n"
          ]
        }
      ],
      "source": [
        "!pip install xgboost"
      ]
    },
    {
      "cell_type": "code",
      "execution_count": 2,
      "metadata": {
        "colab": {
          "base_uri": "https://localhost:8080/"
        },
        "id": "EIsSTHlA5qe_",
        "outputId": "83dfb821-33c8-490a-a2af-763e19aa7842"
      },
      "outputs": [
        {
          "output_type": "stream",
          "name": "stdout",
          "text": [
            "Requirement already satisfied: joblib in /usr/local/lib/python3.10/dist-packages (1.3.2)\n"
          ]
        }
      ],
      "source": [
        "!pip install joblib"
      ]
    },
    {
      "cell_type": "code",
      "execution_count": 3,
      "metadata": {
        "ExecuteTime": {
          "end_time": "2019-03-05T17:34:52.054851Z",
          "start_time": "2019-03-05T17:34:51.515762Z"
        },
        "colab": {
          "base_uri": "https://localhost:8080/"
        },
        "id": "7g1Vx5AR5qe_",
        "outputId": "3fc96ce4-595e-43ae-d97e-2ee1a588f482"
      },
      "outputs": [
        {
          "output_type": "stream",
          "name": "stderr",
          "text": [
            "<ipython-input-3-dd84166dfa05>:12: TqdmDeprecationWarning: This function will be removed in tqdm==5.0.0\n",
            "Please use `tqdm.notebook.*` instead of `tqdm._tqdm_notebook.*`\n",
            "  from tqdm._tqdm_notebook import tqdm_notebook\n"
          ]
        }
      ],
      "source": [
        "import pandas as pd\n",
        "import numpy as np\n",
        "import xgboost as xgb\n",
        "import re\n",
        "import os\n",
        "import matplotlib.pyplot as plt\n",
        "from sklearn.preprocessing import MinMaxScaler\n",
        "from sklearn.model_selection import train_test_split\n",
        "\n",
        "import joblib\n",
        "\n",
        "from tqdm._tqdm_notebook import tqdm_notebook"
      ]
    },
    {
      "cell_type": "code",
      "execution_count": 8,
      "metadata": {
        "id": "xvBgoClv5qe_"
      },
      "outputs": [],
      "source": [
        "PATH_DATA = '/content'\n",
        "MODEL_PATH = \"model.pkl\""
      ]
    },
    {
      "cell_type": "code",
      "execution_count": 31,
      "metadata": {
        "ExecuteTime": {
          "end_time": "2019-03-05T17:34:58.314241Z",
          "start_time": "2019-03-05T17:34:52.056205Z"
        },
        "id": "ZyQk-VJb5qe_"
      },
      "outputs": [],
      "source": [
        "# Считываем данные\n",
        "#pd.set_option('display.max_rows', None)\n",
        "#pd.set_option('display.max_columns', None)\n",
        "#pd.set_option('display.max_colwidth', None)\n",
        "tr_mcc_codes = pd.read_csv(os.path.join(PATH_DATA, 'mcc_codes.csv'), sep=';', index_col='mcc_code')\n",
        "tr_types = pd.read_csv(os.path.join(PATH_DATA, 'trans_types.csv'), sep=';', index_col='trans_type')\n",
        "\n",
        "transactions = pd.read_csv(os.path.join(PATH_DATA, 'transactions.csv'), index_col='client_id')\n",
        "gender_train = pd.read_csv(os.path.join(PATH_DATA, 'train.csv'), index_col='client_id')\n",
        "gender_test = pd.read_csv(os.path.join(PATH_DATA, 'test.csv'), index_col='client_id')\n",
        "transactions_train = transactions.join(gender_train, how='inner')\n",
        "transactions_test = transactions.join(gender_test, how='inner')\n",
        "\n"
      ]
    },
    {
      "cell_type": "code",
      "source": [
        "transactions_test.head(10)"
      ],
      "metadata": {
        "colab": {
          "base_uri": "https://localhost:8080/",
          "height": 605
        },
        "id": "qewlw2lL8m7c",
        "outputId": "b51517f8-2657-4e46-90ab-70ad0b7f5be5"
      },
      "execution_count": 51,
      "outputs": [
        {
          "output_type": "execute_result",
          "data": {
            "text/plain": [
              "                                    trans_time  mcc_code  trans_type   amount  \\\n",
              "client_id                                                                       \n",
              "002218c52073faaf23bb26df2cffb138   54 10:35:16    6011.0      2010.0  -360.78   \n",
              "002218c52073faaf23bb26df2cffb138   52 11:00:46    6011.0      2010.0 -1446.74   \n",
              "002218c52073faaf23bb26df2cffb138   52 17:14:19    5541.0      1110.0  -672.38   \n",
              "002218c52073faaf23bb26df2cffb138  353 16:33:39    5499.0      1010.0  -324.94   \n",
              "002218c52073faaf23bb26df2cffb138  244 08:48:14    5812.0      1010.0  -173.87   \n",
              "002218c52073faaf23bb26df2cffb138  259 09:50:24    5499.0      1010.0  -173.70   \n",
              "002218c52073faaf23bb26df2cffb138   85 08:23:11    6011.0      2010.0 -1446.73   \n",
              "002218c52073faaf23bb26df2cffb138  344 08:59:29    6011.0      7010.0   724.15   \n",
              "002218c52073faaf23bb26df2cffb138  110 17:14:23    5499.0      1010.0  -430.64   \n",
              "002218c52073faaf23bb26df2cffb138  114 07:29:10    5499.0      1010.0  -639.62   \n",
              "\n",
              "                                   term_id        trans_city  Unnamed: 0  day  \\\n",
              "client_id                                                                       \n",
              "002218c52073faaf23bb26df2cffb138       NaN  Saint Petersburg           0    5   \n",
              "002218c52073faaf23bb26df2cffb138       NaN  Saint Petersburg           0    3   \n",
              "002218c52073faaf23bb26df2cffb138       NaN  Saint Petersburg           0    3   \n",
              "002218c52073faaf23bb26df2cffb138    804245  Saint Petersburg           0    3   \n",
              "002218c52073faaf23bb26df2cffb138    464318  Saint Petersburg           0    6   \n",
              "002218c52073faaf23bb26df2cffb138    361877  Saint Petersburg           0    0   \n",
              "002218c52073faaf23bb26df2cffb138       NaN  Saint Petersburg           0    1   \n",
              "002218c52073faaf23bb26df2cffb138  10117859  Saint Petersburg           0    1   \n",
              "002218c52073faaf23bb26df2cffb138       NaN  Saint Petersburg           0    5   \n",
              "002218c52073faaf23bb26df2cffb138       NaN  Saint Petersburg           0    2   \n",
              "\n",
              "                                  hour  night  \n",
              "client_id                                      \n",
              "002218c52073faaf23bb26df2cffb138    10     -2  \n",
              "002218c52073faaf23bb26df2cffb138    11     -2  \n",
              "002218c52073faaf23bb26df2cffb138    17     -2  \n",
              "002218c52073faaf23bb26df2cffb138    16     -2  \n",
              "002218c52073faaf23bb26df2cffb138     8     -2  \n",
              "002218c52073faaf23bb26df2cffb138     9     -2  \n",
              "002218c52073faaf23bb26df2cffb138     8     -2  \n",
              "002218c52073faaf23bb26df2cffb138     8     -2  \n",
              "002218c52073faaf23bb26df2cffb138    17     -2  \n",
              "002218c52073faaf23bb26df2cffb138     7     -2  "
            ],
            "text/html": [
              "\n",
              "  <div id=\"df-50c345f2-7093-4f00-a8b9-7d7983d4929f\" class=\"colab-df-container\">\n",
              "    <div>\n",
              "<style scoped>\n",
              "    .dataframe tbody tr th:only-of-type {\n",
              "        vertical-align: middle;\n",
              "    }\n",
              "\n",
              "    .dataframe tbody tr th {\n",
              "        vertical-align: top;\n",
              "    }\n",
              "\n",
              "    .dataframe thead th {\n",
              "        text-align: right;\n",
              "    }\n",
              "</style>\n",
              "<table border=\"1\" class=\"dataframe\">\n",
              "  <thead>\n",
              "    <tr style=\"text-align: right;\">\n",
              "      <th></th>\n",
              "      <th>trans_time</th>\n",
              "      <th>mcc_code</th>\n",
              "      <th>trans_type</th>\n",
              "      <th>amount</th>\n",
              "      <th>term_id</th>\n",
              "      <th>trans_city</th>\n",
              "      <th>Unnamed: 0</th>\n",
              "      <th>day</th>\n",
              "      <th>hour</th>\n",
              "      <th>night</th>\n",
              "    </tr>\n",
              "    <tr>\n",
              "      <th>client_id</th>\n",
              "      <th></th>\n",
              "      <th></th>\n",
              "      <th></th>\n",
              "      <th></th>\n",
              "      <th></th>\n",
              "      <th></th>\n",
              "      <th></th>\n",
              "      <th></th>\n",
              "      <th></th>\n",
              "      <th></th>\n",
              "    </tr>\n",
              "  </thead>\n",
              "  <tbody>\n",
              "    <tr>\n",
              "      <th>002218c52073faaf23bb26df2cffb138</th>\n",
              "      <td>54 10:35:16</td>\n",
              "      <td>6011.0</td>\n",
              "      <td>2010.0</td>\n",
              "      <td>-360.78</td>\n",
              "      <td>NaN</td>\n",
              "      <td>Saint Petersburg</td>\n",
              "      <td>0</td>\n",
              "      <td>5</td>\n",
              "      <td>10</td>\n",
              "      <td>-2</td>\n",
              "    </tr>\n",
              "    <tr>\n",
              "      <th>002218c52073faaf23bb26df2cffb138</th>\n",
              "      <td>52 11:00:46</td>\n",
              "      <td>6011.0</td>\n",
              "      <td>2010.0</td>\n",
              "      <td>-1446.74</td>\n",
              "      <td>NaN</td>\n",
              "      <td>Saint Petersburg</td>\n",
              "      <td>0</td>\n",
              "      <td>3</td>\n",
              "      <td>11</td>\n",
              "      <td>-2</td>\n",
              "    </tr>\n",
              "    <tr>\n",
              "      <th>002218c52073faaf23bb26df2cffb138</th>\n",
              "      <td>52 17:14:19</td>\n",
              "      <td>5541.0</td>\n",
              "      <td>1110.0</td>\n",
              "      <td>-672.38</td>\n",
              "      <td>NaN</td>\n",
              "      <td>Saint Petersburg</td>\n",
              "      <td>0</td>\n",
              "      <td>3</td>\n",
              "      <td>17</td>\n",
              "      <td>-2</td>\n",
              "    </tr>\n",
              "    <tr>\n",
              "      <th>002218c52073faaf23bb26df2cffb138</th>\n",
              "      <td>353 16:33:39</td>\n",
              "      <td>5499.0</td>\n",
              "      <td>1010.0</td>\n",
              "      <td>-324.94</td>\n",
              "      <td>804245</td>\n",
              "      <td>Saint Petersburg</td>\n",
              "      <td>0</td>\n",
              "      <td>3</td>\n",
              "      <td>16</td>\n",
              "      <td>-2</td>\n",
              "    </tr>\n",
              "    <tr>\n",
              "      <th>002218c52073faaf23bb26df2cffb138</th>\n",
              "      <td>244 08:48:14</td>\n",
              "      <td>5812.0</td>\n",
              "      <td>1010.0</td>\n",
              "      <td>-173.87</td>\n",
              "      <td>464318</td>\n",
              "      <td>Saint Petersburg</td>\n",
              "      <td>0</td>\n",
              "      <td>6</td>\n",
              "      <td>8</td>\n",
              "      <td>-2</td>\n",
              "    </tr>\n",
              "    <tr>\n",
              "      <th>002218c52073faaf23bb26df2cffb138</th>\n",
              "      <td>259 09:50:24</td>\n",
              "      <td>5499.0</td>\n",
              "      <td>1010.0</td>\n",
              "      <td>-173.70</td>\n",
              "      <td>361877</td>\n",
              "      <td>Saint Petersburg</td>\n",
              "      <td>0</td>\n",
              "      <td>0</td>\n",
              "      <td>9</td>\n",
              "      <td>-2</td>\n",
              "    </tr>\n",
              "    <tr>\n",
              "      <th>002218c52073faaf23bb26df2cffb138</th>\n",
              "      <td>85 08:23:11</td>\n",
              "      <td>6011.0</td>\n",
              "      <td>2010.0</td>\n",
              "      <td>-1446.73</td>\n",
              "      <td>NaN</td>\n",
              "      <td>Saint Petersburg</td>\n",
              "      <td>0</td>\n",
              "      <td>1</td>\n",
              "      <td>8</td>\n",
              "      <td>-2</td>\n",
              "    </tr>\n",
              "    <tr>\n",
              "      <th>002218c52073faaf23bb26df2cffb138</th>\n",
              "      <td>344 08:59:29</td>\n",
              "      <td>6011.0</td>\n",
              "      <td>7010.0</td>\n",
              "      <td>724.15</td>\n",
              "      <td>10117859</td>\n",
              "      <td>Saint Petersburg</td>\n",
              "      <td>0</td>\n",
              "      <td>1</td>\n",
              "      <td>8</td>\n",
              "      <td>-2</td>\n",
              "    </tr>\n",
              "    <tr>\n",
              "      <th>002218c52073faaf23bb26df2cffb138</th>\n",
              "      <td>110 17:14:23</td>\n",
              "      <td>5499.0</td>\n",
              "      <td>1010.0</td>\n",
              "      <td>-430.64</td>\n",
              "      <td>NaN</td>\n",
              "      <td>Saint Petersburg</td>\n",
              "      <td>0</td>\n",
              "      <td>5</td>\n",
              "      <td>17</td>\n",
              "      <td>-2</td>\n",
              "    </tr>\n",
              "    <tr>\n",
              "      <th>002218c52073faaf23bb26df2cffb138</th>\n",
              "      <td>114 07:29:10</td>\n",
              "      <td>5499.0</td>\n",
              "      <td>1010.0</td>\n",
              "      <td>-639.62</td>\n",
              "      <td>NaN</td>\n",
              "      <td>Saint Petersburg</td>\n",
              "      <td>0</td>\n",
              "      <td>2</td>\n",
              "      <td>7</td>\n",
              "      <td>-2</td>\n",
              "    </tr>\n",
              "  </tbody>\n",
              "</table>\n",
              "</div>\n",
              "    <div class=\"colab-df-buttons\">\n",
              "\n",
              "  <div class=\"colab-df-container\">\n",
              "    <button class=\"colab-df-convert\" onclick=\"convertToInteractive('df-50c345f2-7093-4f00-a8b9-7d7983d4929f')\"\n",
              "            title=\"Convert this dataframe to an interactive table.\"\n",
              "            style=\"display:none;\">\n",
              "\n",
              "  <svg xmlns=\"http://www.w3.org/2000/svg\" height=\"24px\" viewBox=\"0 -960 960 960\">\n",
              "    <path d=\"M120-120v-720h720v720H120Zm60-500h600v-160H180v160Zm220 220h160v-160H400v160Zm0 220h160v-160H400v160ZM180-400h160v-160H180v160Zm440 0h160v-160H620v160ZM180-180h160v-160H180v160Zm440 0h160v-160H620v160Z\"/>\n",
              "  </svg>\n",
              "    </button>\n",
              "\n",
              "  <style>\n",
              "    .colab-df-container {\n",
              "      display:flex;\n",
              "      gap: 12px;\n",
              "    }\n",
              "\n",
              "    .colab-df-convert {\n",
              "      background-color: #E8F0FE;\n",
              "      border: none;\n",
              "      border-radius: 50%;\n",
              "      cursor: pointer;\n",
              "      display: none;\n",
              "      fill: #1967D2;\n",
              "      height: 32px;\n",
              "      padding: 0 0 0 0;\n",
              "      width: 32px;\n",
              "    }\n",
              "\n",
              "    .colab-df-convert:hover {\n",
              "      background-color: #E2EBFA;\n",
              "      box-shadow: 0px 1px 2px rgba(60, 64, 67, 0.3), 0px 1px 3px 1px rgba(60, 64, 67, 0.15);\n",
              "      fill: #174EA6;\n",
              "    }\n",
              "\n",
              "    .colab-df-buttons div {\n",
              "      margin-bottom: 4px;\n",
              "    }\n",
              "\n",
              "    [theme=dark] .colab-df-convert {\n",
              "      background-color: #3B4455;\n",
              "      fill: #D2E3FC;\n",
              "    }\n",
              "\n",
              "    [theme=dark] .colab-df-convert:hover {\n",
              "      background-color: #434B5C;\n",
              "      box-shadow: 0px 1px 3px 1px rgba(0, 0, 0, 0.15);\n",
              "      filter: drop-shadow(0px 1px 2px rgba(0, 0, 0, 0.3));\n",
              "      fill: #FFFFFF;\n",
              "    }\n",
              "  </style>\n",
              "\n",
              "    <script>\n",
              "      const buttonEl =\n",
              "        document.querySelector('#df-50c345f2-7093-4f00-a8b9-7d7983d4929f button.colab-df-convert');\n",
              "      buttonEl.style.display =\n",
              "        google.colab.kernel.accessAllowed ? 'block' : 'none';\n",
              "\n",
              "      async function convertToInteractive(key) {\n",
              "        const element = document.querySelector('#df-50c345f2-7093-4f00-a8b9-7d7983d4929f');\n",
              "        const dataTable =\n",
              "          await google.colab.kernel.invokeFunction('convertToInteractive',\n",
              "                                                    [key], {});\n",
              "        if (!dataTable) return;\n",
              "\n",
              "        const docLinkHtml = 'Like what you see? Visit the ' +\n",
              "          '<a target=\"_blank\" href=https://colab.research.google.com/notebooks/data_table.ipynb>data table notebook</a>'\n",
              "          + ' to learn more about interactive tables.';\n",
              "        element.innerHTML = '';\n",
              "        dataTable['output_type'] = 'display_data';\n",
              "        await google.colab.output.renderOutput(dataTable, element);\n",
              "        const docLink = document.createElement('div');\n",
              "        docLink.innerHTML = docLinkHtml;\n",
              "        element.appendChild(docLink);\n",
              "      }\n",
              "    </script>\n",
              "  </div>\n",
              "\n",
              "\n",
              "<div id=\"df-0970d790-3bad-48be-9eb9-4565c3f66178\">\n",
              "  <button class=\"colab-df-quickchart\" onclick=\"quickchart('df-0970d790-3bad-48be-9eb9-4565c3f66178')\"\n",
              "            title=\"Suggest charts\"\n",
              "            style=\"display:none;\">\n",
              "\n",
              "<svg xmlns=\"http://www.w3.org/2000/svg\" height=\"24px\"viewBox=\"0 0 24 24\"\n",
              "     width=\"24px\">\n",
              "    <g>\n",
              "        <path d=\"M19 3H5c-1.1 0-2 .9-2 2v14c0 1.1.9 2 2 2h14c1.1 0 2-.9 2-2V5c0-1.1-.9-2-2-2zM9 17H7v-7h2v7zm4 0h-2V7h2v10zm4 0h-2v-4h2v4z\"/>\n",
              "    </g>\n",
              "</svg>\n",
              "  </button>\n",
              "\n",
              "<style>\n",
              "  .colab-df-quickchart {\n",
              "      --bg-color: #E8F0FE;\n",
              "      --fill-color: #1967D2;\n",
              "      --hover-bg-color: #E2EBFA;\n",
              "      --hover-fill-color: #174EA6;\n",
              "      --disabled-fill-color: #AAA;\n",
              "      --disabled-bg-color: #DDD;\n",
              "  }\n",
              "\n",
              "  [theme=dark] .colab-df-quickchart {\n",
              "      --bg-color: #3B4455;\n",
              "      --fill-color: #D2E3FC;\n",
              "      --hover-bg-color: #434B5C;\n",
              "      --hover-fill-color: #FFFFFF;\n",
              "      --disabled-bg-color: #3B4455;\n",
              "      --disabled-fill-color: #666;\n",
              "  }\n",
              "\n",
              "  .colab-df-quickchart {\n",
              "    background-color: var(--bg-color);\n",
              "    border: none;\n",
              "    border-radius: 50%;\n",
              "    cursor: pointer;\n",
              "    display: none;\n",
              "    fill: var(--fill-color);\n",
              "    height: 32px;\n",
              "    padding: 0;\n",
              "    width: 32px;\n",
              "  }\n",
              "\n",
              "  .colab-df-quickchart:hover {\n",
              "    background-color: var(--hover-bg-color);\n",
              "    box-shadow: 0 1px 2px rgba(60, 64, 67, 0.3), 0 1px 3px 1px rgba(60, 64, 67, 0.15);\n",
              "    fill: var(--button-hover-fill-color);\n",
              "  }\n",
              "\n",
              "  .colab-df-quickchart-complete:disabled,\n",
              "  .colab-df-quickchart-complete:disabled:hover {\n",
              "    background-color: var(--disabled-bg-color);\n",
              "    fill: var(--disabled-fill-color);\n",
              "    box-shadow: none;\n",
              "  }\n",
              "\n",
              "  .colab-df-spinner {\n",
              "    border: 2px solid var(--fill-color);\n",
              "    border-color: transparent;\n",
              "    border-bottom-color: var(--fill-color);\n",
              "    animation:\n",
              "      spin 1s steps(1) infinite;\n",
              "  }\n",
              "\n",
              "  @keyframes spin {\n",
              "    0% {\n",
              "      border-color: transparent;\n",
              "      border-bottom-color: var(--fill-color);\n",
              "      border-left-color: var(--fill-color);\n",
              "    }\n",
              "    20% {\n",
              "      border-color: transparent;\n",
              "      border-left-color: var(--fill-color);\n",
              "      border-top-color: var(--fill-color);\n",
              "    }\n",
              "    30% {\n",
              "      border-color: transparent;\n",
              "      border-left-color: var(--fill-color);\n",
              "      border-top-color: var(--fill-color);\n",
              "      border-right-color: var(--fill-color);\n",
              "    }\n",
              "    40% {\n",
              "      border-color: transparent;\n",
              "      border-right-color: var(--fill-color);\n",
              "      border-top-color: var(--fill-color);\n",
              "    }\n",
              "    60% {\n",
              "      border-color: transparent;\n",
              "      border-right-color: var(--fill-color);\n",
              "    }\n",
              "    80% {\n",
              "      border-color: transparent;\n",
              "      border-right-color: var(--fill-color);\n",
              "      border-bottom-color: var(--fill-color);\n",
              "    }\n",
              "    90% {\n",
              "      border-color: transparent;\n",
              "      border-bottom-color: var(--fill-color);\n",
              "    }\n",
              "  }\n",
              "</style>\n",
              "\n",
              "  <script>\n",
              "    async function quickchart(key) {\n",
              "      const quickchartButtonEl =\n",
              "        document.querySelector('#' + key + ' button');\n",
              "      quickchartButtonEl.disabled = true;  // To prevent multiple clicks.\n",
              "      quickchartButtonEl.classList.add('colab-df-spinner');\n",
              "      try {\n",
              "        const charts = await google.colab.kernel.invokeFunction(\n",
              "            'suggestCharts', [key], {});\n",
              "      } catch (error) {\n",
              "        console.error('Error during call to suggestCharts:', error);\n",
              "      }\n",
              "      quickchartButtonEl.classList.remove('colab-df-spinner');\n",
              "      quickchartButtonEl.classList.add('colab-df-quickchart-complete');\n",
              "    }\n",
              "    (() => {\n",
              "      let quickchartButtonEl =\n",
              "        document.querySelector('#df-0970d790-3bad-48be-9eb9-4565c3f66178 button');\n",
              "      quickchartButtonEl.style.display =\n",
              "        google.colab.kernel.accessAllowed ? 'block' : 'none';\n",
              "    })();\n",
              "  </script>\n",
              "</div>\n",
              "    </div>\n",
              "  </div>\n"
            ]
          },
          "metadata": {},
          "execution_count": 51
        }
      ]
    },
    {
      "cell_type": "markdown",
      "source": [],
      "metadata": {
        "id": "p2IUynh47hSo"
      }
    },
    {
      "cell_type": "code",
      "execution_count": 34,
      "metadata": {
        "ExecuteTime": {
          "end_time": "2019-03-05T17:34:58.354996Z",
          "start_time": "2019-03-05T17:34:58.315591Z"
        },
        "id": "9a-Gc6gQ5qe_"
      },
      "outputs": [],
      "source": [
        "# Функции, которыми можно пользоваться для построения классификатора,\n",
        "# оценки его результатов и построение прогноза для тестовой части пользователей\n",
        "\n",
        "# Cross-validation score (среднее значение метрики ROC AUC на тренировочных данных)\n",
        "def cv_score(params, train, y_true):\n",
        "    cv_res=xgb.cv(params, xgb.DMatrix(train, y_true),\n",
        "                  early_stopping_rounds=10, maximize=True,\n",
        "                  num_boost_round=10000, nfold=5, stratified=True)\n",
        "    index_argmax = cv_res['test-auc-mean'].argmax()\n",
        "    print('Cross-validation, ROC AUC: {:.3f}+-{:.3f}, Trees: {}'.format(cv_res.loc[index_argmax]['test-auc-mean'],\n",
        "                                                                        cv_res.loc[index_argmax]['test-auc-std'],\n",
        "                                                                        index_argmax))\n",
        "\n",
        "# Построение модели + возврат результатов классификации тестовых пользователей\n",
        "def fit_predict(params, num_trees, train, test, target):\n",
        "    params['learning_rate'] = params['eta']\n",
        "    clf = xgb.train(params, xgb.DMatrix(train.values, target, feature_names=list(train.columns)),\n",
        "                    num_boost_round=num_trees, maximize=True)\n",
        "    y_pred = clf.predict(xgb.DMatrix(test.values, feature_names=list(train.columns)))\n",
        "    submission = pd.DataFrame(index=test.index, data=y_pred, columns=['probability'])\n",
        "\n",
        "    joblib.dump(clf, MODEL_PATH)\n",
        "    return clf, submission\n",
        "\n",
        "# Отрисовка важности переменных. Важность переменной - количество разбиений выборки,\n",
        "# в которых участвует данная переменная. Чем больше - тем она, вероятно, лучше\n",
        "def draw_feature_importances(clf, top_k=10):\n",
        "    plt.figure(figsize=(10, 10))\n",
        "\n",
        "    importances = dict(sorted(clf.get_score().items(), key=lambda x: x[1])[-top_k:])\n",
        "    y_pos = np.arange(len(importances))\n",
        "\n",
        "    plt.barh(y_pos, list(importances.values()), align='center', color='green')\n",
        "    plt.yticks(y_pos, importances.keys(), fontsize=12)\n",
        "    plt.xticks(fontsize=12)\n",
        "    plt.xlabel('Feature importance', fontsize=15)\n",
        "    plt.title('Features importances, Sberbank Gender Prediction', fontsize=18)\n",
        "    plt.ylim(-0.5, len(importances) - 0.5)\n",
        "    plt.show()"
      ]
    },
    {
      "cell_type": "markdown",
      "metadata": {
        "id": "T4QpYLas5qfA"
      },
      "source": [
        "Так как код для оценки модели на тренировочных данных и её применения на тестовых данных уже дан, то мы будем работать над тем, чтобы создать переменные для улучшения результатов моделирования.\n",
        "\n",
        "<font color='red'><b>!!!</b></font> В рамках данного задания Вы можете делать всё, что угодно - использовать другие алгоритмы и/или их комбинации, подбирать гиперпараметры своих моделей, отбирать переменые, etc. Мы создали шаблон для простоты и для Вашего понимания верхнеуровневого процесса разработки модели, опустив при этом большое число деталей."
      ]
    },
    {
      "cell_type": "markdown",
      "metadata": {
        "id": "-fnDSEt65qfA"
      },
      "source": [
        "## Basic features\n",
        "Начнём с того, что сформируем базовые переменные по каждому пользователю. На этом этапе будем использовать стандартные агрегации, посчитанные на расходах и приходах клиента:\n",
        "- минимум\n",
        "- максимум\n",
        "- среднее\n",
        "- медиана\n",
        "- среднеквадратичное отклонение\n",
        "- количество\n",
        "\n",
        "Также параметры модели выберем стандартные, запишем их в словарь params, и будем использовать для дальнейшего построения модели (не забывайте, что с этим Вы можете тоже экспериментировать)."
      ]
    },
    {
      "cell_type": "code",
      "execution_count": 11,
      "metadata": {
        "ExecuteTime": {
          "end_time": "2019-03-05T17:34:58.362104Z",
          "start_time": "2019-03-05T17:34:58.356308Z"
        },
        "id": "4yK8k6Xe5qfA"
      },
      "outputs": [],
      "source": [
        "params = {\n",
        "    'eta': 0.1,\n",
        "    'max_depth': 3,\n",
        "    'subsample': 0.8,\n",
        "    'colsample_bytree': 0.8,\n",
        "\n",
        "    'gamma': 0,\n",
        "    'lambda': 0,\n",
        "    'alpha': 0,\n",
        "    'min_child_weight': 0,\n",
        "\n",
        "    'eval_metric': 'auc',\n",
        "    'objective': 'binary:logistic' ,\n",
        "    'booster': 'gbtree',\n",
        "    'njobs': -1,\n",
        "    'tree_method': 'approx'\n",
        "}"
      ]
    },
    {
      "cell_type": "code",
      "execution_count": 12,
      "metadata": {
        "ExecuteTime": {
          "end_time": "2019-03-05T17:35:41.272300Z",
          "start_time": "2019-03-05T17:34:58.363622Z"
        },
        "colab": {
          "base_uri": "https://localhost:8080/",
          "height": 81,
          "referenced_widgets": [
            "8e2b652a4e2d4acda18d3c568fe92cc6",
            "394e7c91ba634b9e840bc9f79cfe72ab",
            "de237bd8166745daa8bb534b589ab547",
            "562bcaf6dc1c4de68061d32e4e6e0c17",
            "2abd91b265e44c469a1855f9519394d9",
            "cee605061369493db67c4ae5563eba97",
            "ee15bbaad23e434bb9af6245599998f7",
            "9501ba468d80400bb2e099fe2e518249",
            "24275a7c0a7d4e05a9cdb0c47bce33f5",
            "a8ba504eabe0407681c0d5bbf74e3396",
            "07b43f8b2ab0413582dceb3af6cb423c",
            "ada886bda14c44fd8bb0e18b80c87ce4",
            "6e5d603ae7a84078be83ddc45b3baa00",
            "9e9d789ef2fb424e8ca9eb9193c4eda3",
            "e46a65b3cd1c4dedb338678e76846cc7",
            "3455044e1a564ad68b1e85b3ffbe29ff",
            "14ba97ad81ad406fbfb888bf074c5566",
            "f9fe932908734232a660e58228cbd696",
            "c8e7a0b83e384a8ea40f7a9ba01261a4",
            "3e893dec014e4d9c9ae418cde701665c",
            "02f89f7bb6734d889ace7a1915dd8d12",
            "ffa34d6a441a41d0bd6b02566b629493"
          ]
        },
        "id": "TPXTxPZJ5qfA",
        "outputId": "abd535d0-1e9c-449c-c30c-98bebdfdea27"
      },
      "outputs": [
        {
          "output_type": "display_data",
          "data": {
            "text/plain": [
              "Progress:   0%|          | 0/7427 [00:00<?, ?it/s]"
            ],
            "application/vnd.jupyter.widget-view+json": {
              "version_major": 2,
              "version_minor": 0,
              "model_id": "8e2b652a4e2d4acda18d3c568fe92cc6"
            }
          },
          "metadata": {}
        },
        {
          "output_type": "display_data",
          "data": {
            "text/plain": [
              "Progress:   0%|          | 0/828 [00:00<?, ?it/s]"
            ],
            "application/vnd.jupyter.widget-view+json": {
              "version_major": 2,
              "version_minor": 0,
              "model_id": "ada886bda14c44fd8bb0e18b80c87ce4"
            }
          },
          "metadata": {}
        }
      ],
      "source": [
        "tqdm_notebook.pandas(desc=\"Progress\")\n",
        "\n",
        "def features_creation_basic(x):\n",
        "    features = []\n",
        "    features.append(pd.Series(x[x['amount']>0]['amount'].agg(['min', 'max', 'mean', 'median', 'std', 'count'])\\\n",
        "                                                        .add_prefix('positive_transactions_')))\n",
        "    features.append(pd.Series(x[x['amount']<0]['amount'].agg(['min', 'max', 'mean', 'median', 'std', 'count'])\\\n",
        "                                                        .add_prefix('negative_transactions_')))\n",
        "\n",
        "    return pd.concat(features)\n",
        "\n",
        "data_train = transactions_train.groupby(transactions_train.index).progress_apply(features_creation_basic)\n",
        "data_test = transactions_test.groupby(transactions_test.index).progress_apply(features_creation_basic)"
      ]
    },
    {
      "cell_type": "code",
      "execution_count": 36,
      "metadata": {
        "ExecuteTime": {
          "end_time": "2019-03-05T17:35:45.011046Z",
          "start_time": "2019-03-05T17:35:41.273326Z"
        },
        "colab": {
          "base_uri": "https://localhost:8080/"
        },
        "id": "z19SDlet5qfB",
        "outputId": "ea26e4f9-662e-41fe-f0de-f2154632b1a3"
      },
      "outputs": [
        {
          "output_type": "stream",
          "name": "stderr",
          "text": [
            "/usr/local/lib/python3.10/dist-packages/xgboost/core.py:160: UserWarning: [20:31:24] WARNING: /workspace/src/learner.cc:742: \n",
            "Parameters: { \"njobs\" } are not used.\n",
            "\n",
            "  warnings.warn(smsg, UserWarning)\n"
          ]
        },
        {
          "output_type": "stream",
          "name": "stdout",
          "text": [
            "Cross-validation, ROC AUC: 0.633+-0.010, Trees: 39\n"
          ]
        }
      ],
      "source": [
        "target = data_train.join(gender_train, how='inner')['gender']\n",
        "cv_score(params, data_train, target)"
      ]
    },
    {
      "cell_type": "code",
      "execution_count": 38,
      "metadata": {
        "ExecuteTime": {
          "end_time": "2019-03-05T17:35:45.714620Z",
          "start_time": "2019-03-05T17:35:45.018570Z"
        },
        "colab": {
          "base_uri": "https://localhost:8080/"
        },
        "id": "REbh-cwU5qfB",
        "outputId": "e8404acb-a0f3-4822-b43c-c827840c517b"
      },
      "outputs": [
        {
          "output_type": "stream",
          "name": "stderr",
          "text": [
            "/usr/local/lib/python3.10/dist-packages/xgboost/core.py:160: UserWarning: [20:31:55] WARNING: /workspace/src/learner.cc:742: \n",
            "Parameters: { \"njobs\" } are not used.\n",
            "\n",
            "  warnings.warn(smsg, UserWarning)\n"
          ]
        }
      ],
      "source": [
        "# Число деревьев для XGBoost имеет смысл выставлять по результатам на кросс-валидации\n",
        "clf, submission = fit_predict(params, 39, data_train, data_test, target)"
      ]
    },
    {
      "cell_type": "code",
      "execution_count": 39,
      "metadata": {
        "ExecuteTime": {
          "end_time": "2019-03-05T17:35:45.897370Z",
          "start_time": "2019-03-05T17:35:45.719320Z"
        },
        "colab": {
          "base_uri": "https://localhost:8080/",
          "height": 812
        },
        "id": "nx5HUAmb5qfB",
        "outputId": "1e724904-c958-47f7-ae15-eabad603cadf"
      },
      "outputs": [
        {
          "output_type": "display_data",
          "data": {
            "text/plain": [
              "<Figure size 1000x1000 with 1 Axes>"
            ],
            "image/png": "[encoded data removed]"
          },
          "metadata": {}
        }
      ],
      "source": [
        "draw_feature_importances(clf, 10)"
      ]
    },
    {
      "cell_type": "code",
      "execution_count": 40,
      "metadata": {
        "tags": [],
        "id": "cZmLE-lE5qfB"
      },
      "outputs": [],
      "source": [
        "# Сохраняем результат моделирования\n",
        "\n",
        "submission.to_csv('basic_features_submission.csv')"
      ]
    },
    {
      "cell_type": "markdown",
      "metadata": {
        "id": "HzYIW8AR5qfB"
      },
      "source": [
        "<font size=3>Видим, что результат на кросс-валидации = <font\n",
        "\n",
        "*   Новый пункт\n",
        "*   Новый пункт\n",
        "\n",
        "color='red'><b>62.2%</b></font> ROC AUC."
      ]
    },
    {
      "cell_type": "markdown",
      "metadata": {
        "id": "oPAJD7nS5qfC"
      },
      "source": [
        "## Advanced features\n",
        "Добавим дополнительные переменные по каждому пользователю в модель. <br>\n",
        "Для этого будем анализировать дни недели, часы и состояние дня/ночи во время покупки - в каждом из случаев будем считать частоту транзакций в соответствующей категории относитеьно всех остальных категорий. <br>\n",
        "То есть если, например, клиент в 70% случае совершал ночные траты, то мы получим вектор [0.7, 0.3] для этого случая в качестве частот транзакций ночью/днём."
      ]
    },
    {
      "cell_type": "code",
      "execution_count": 62,
      "metadata": {
        "ExecuteTime": {
          "end_time": "2019-03-05T17:35:57.677748Z",
          "start_time": "2019-03-05T17:35:45.921444Z"
        },
        "tags": [],
        "id": "al8e_8pd5qfC"
      },
      "outputs": [],
      "source": [
        "for df in [transactions_train, transactions_test]:\n",
        "    df['day'] = df['trans_time'].str.split().apply(lambda x: int(x[0]) % 7)\n",
        "    df['hour'] = df['trans_time'].apply(lambda x: re.search(' \\d*', x).group(0)).astype(int)\n",
        "    df['night'] = ~df['hour'].between(6, 22).astype(int)\n",
        "    df['mcc'] = df['mcc_code']\n",
        "    df['type'] = df['trans_type']"
      ]
    },
    {
      "cell_type": "code",
      "source": [],
      "metadata": {
        "id": "Axa29c5-A7kD"
      },
      "execution_count": null,
      "outputs": []
    },
    {
      "cell_type": "code",
      "execution_count": 63,
      "metadata": {
        "ExecuteTime": {
          "end_time": "2019-03-05T17:35:57.687397Z",
          "start_time": "2019-03-05T17:35:57.678823Z"
        },
        "tags": [],
        "id": "iwbJaXAl5qfC"
      },
      "outputs": [],
      "source": [
        "def features_creation_advanced(x):\n",
        "    features = []\n",
        "    features.append(pd.Series(x['day'].value_counts(normalize=True).add_prefix('day_')))\n",
        "    features.append(pd.Series(x['mcc'].value_counts(normalize=True).add_prefix('mcc_')))\n",
        "    features.append(pd.Series(x['type'].value_counts(normalize=True).add_prefix('type_')))\n",
        "\n",
        "    features.append(pd.Series(x['hour'].value_counts(normalize=True).add_prefix('hour_')))\n",
        "    features.append(pd.Series(x['night'].value_counts(normalize=True).add_prefix('night_')))\n",
        "    features.append(pd.Series(x[x['amount']>0]['amount'].agg(['min', 'max', 'mean', 'median', 'std', 'count'])\\\n",
        "                                                        .add_prefix('positive_transactions_')))\n",
        "    features.append(pd.Series(x[x['amount']<0]['amount'].agg(['min', 'max', 'mean', 'median', 'std', 'count'])\\\n",
        "                                                        .add_prefix('negative_transactions_')))\n",
        "\n",
        "    return pd.concat(features)"
      ]
    },
    {
      "cell_type": "code",
      "execution_count": 64,
      "metadata": {
        "ExecuteTime": {
          "end_time": "2019-03-05T17:37:19.784321Z",
          "start_time": "2019-03-05T17:35:57.688448Z"
        },
        "colab": {
          "base_uri": "https://localhost:8080/",
          "height": 81,
          "referenced_widgets": [
            "55fc85e36f5b421c8a56656496958aff",
            "88337e6130bc4e8eaba15c9bdc9e5cfa",
            "cd7d869722404011b44e15039647671b",
            "7f6452485a6944a0a787607f4aaef6da",
            "fc7c97ab9f934691b42822529a6cfe55",
            "114c52954fbc45f5a711240a0bb9cfc3",
            "22da77add7244275b99d59b2dec42f15",
            "504d9bf7230246979f18fd144de74c16",
            "7e8ecfa17c7d4bcaa1daf32d8356bf4b",
            "d9f59d6b1cb34608b468e98761af1c30",
            "79fc8667937446419069518bbfe3d8ce",
            "9886eed030f54cffa253a12da615caae",
            "2d3a4bcf2e5b4bb191825b46e6d25130",
            "ee7738ecbe0248b4adf9a0bf1b9ad567",
            "9d15a11a20544abdb9128a7572bc890f",
            "f17788df079c40559608cd8964ab5284",
            "18dce40a319e4480b69e1f62144ef36c",
            "187dae058eba4a66b62e196c522ee5d2",
            "3d2877659c2b45c2a8782cddccc542a4",
            "092b0ed7e36944e79803b40a2337a95e",
            "f4b0f699c7054998b08fc6ca99cdde80",
            "fc1b92b96bde42f8abc7004b7c1e1f05"
          ]
        },
        "id": "SXJyJSHe5qfC",
        "outputId": "2585443c-749f-40c1-f055-3221597221aa"
      },
      "outputs": [
        {
          "output_type": "display_data",
          "data": {
            "text/plain": [
              "Progress:   0%|          | 0/7555 [00:00<?, ?it/s]"
            ],
            "application/vnd.jupyter.widget-view+json": {
              "version_major": 2,
              "version_minor": 0,
              "model_id": "55fc85e36f5b421c8a56656496958aff"
            }
          },
          "metadata": {}
        },
        {
          "output_type": "display_data",
          "data": {
            "text/plain": [
              "Progress:   0%|          | 0/840 [00:00<?, ?it/s]"
            ],
            "application/vnd.jupyter.widget-view+json": {
              "version_major": 2,
              "version_minor": 0,
              "model_id": "9886eed030f54cffa253a12da615caae"
            }
          },
          "metadata": {}
        }
      ],
      "source": [
        "data_train = transactions_train.groupby(transactions_train.index)\\\n",
        "                               .progress_apply(features_creation_advanced).unstack(-1)\n",
        "data_test = transactions_test.groupby(transactions_test.index)\\\n",
        "                             .progress_apply(features_creation_advanced).unstack(-1)"
      ]
    },
    {
      "cell_type": "code",
      "execution_count": 65,
      "metadata": {
        "ExecuteTime": {
          "end_time": "2019-03-05T17:37:27.200528Z",
          "start_time": "2019-03-05T17:37:19.785535Z"
        },
        "colab": {
          "base_uri": "https://localhost:8080/"
        },
        "id": "p_dqKGZb5qfC",
        "outputId": "7b32cf51-110b-4bf2-f85f-09689fd86308"
      },
      "outputs": [
        {
          "output_type": "stream",
          "name": "stderr",
          "text": [
            "/usr/local/lib/python3.10/dist-packages/xgboost/core.py:160: UserWarning: [20:56:24] WARNING: /workspace/src/learner.cc:742: \n",
            "Parameters: { \"njobs\" } are not used.\n",
            "\n",
            "  warnings.warn(smsg, UserWarning)\n",
            "/usr/local/lib/python3.10/dist-packages/xgboost/core.py:160: UserWarning: [20:56:25] WARNING: /workspace/src/learner.cc:742: \n",
            "Parameters: { \"njobs\" } are not used.\n",
            "\n",
            "  warnings.warn(smsg, UserWarning)\n"
          ]
        },
        {
          "output_type": "stream",
          "name": "stdout",
          "text": [
            "Cross-validation, ROC AUC: 0.862+-0.010, Trees: 144\n"
          ]
        }
      ],
      "source": [
        "target = data_train.join(gender_train, how='inner')['gender']\n",
        "cv_score(params, data_train, target)"
      ]
    },
    {
      "cell_type": "code",
      "execution_count": 47,
      "metadata": {
        "ExecuteTime": {
          "end_time": "2019-03-05T17:37:28.307548Z",
          "start_time": "2019-03-05T17:37:27.205214Z"
        },
        "colab": {
          "base_uri": "https://localhost:8080/"
        },
        "id": "T2O9NMV85qfC",
        "outputId": "320e0872-0299-40bc-ecf1-8475e0625730"
      },
      "outputs": [
        {
          "output_type": "stream",
          "name": "stderr",
          "text": [
            "/usr/local/lib/python3.10/dist-packages/xgboost/core.py:160: UserWarning: [20:38:11] WARNING: /workspace/src/learner.cc:742: \n",
            "Parameters: { \"njobs\" } are not used.\n",
            "\n",
            "  warnings.warn(smsg, UserWarning)\n"
          ]
        }
      ],
      "source": [
        "# Число деревьев для XGBoost имеет смысл выятавлять по результатам на кросс-валидации\n",
        "clf, submission = fit_predict(params, 181, data_train, data_test, target)"
      ]
    },
    {
      "cell_type": "code",
      "execution_count": 60,
      "metadata": {
        "ExecuteTime": {
          "end_time": "2019-03-05T17:37:28.426836Z",
          "start_time": "2019-03-05T17:37:28.308620Z"
        },
        "colab": {
          "base_uri": "https://localhost:8080/",
          "height": 824
        },
        "id": "eXxKr-Se5qfC",
        "outputId": "a5d1c799-f784-4aff-cdf5-eb1ec34d8e24"
      },
      "outputs": [
        {
          "output_type": "display_data",
          "data": {
            "text/plain": [
              "<Figure size 1000x1000 with 1 Axes>"
            ],
            "image/png": "[encoded data removed]"
          },
          "metadata": {}
        }
      ],
      "source": [
        "draw_feature_importances(clf, 10)"
      ]
    },
    {
      "cell_type": "markdown",
      "metadata": {
        "heading_collapsed": true,
        "id": "TVasvPwf5qfD"
      },
      "source": [
        "<font size=3>Добавление новых переменных улучшило наши результаты ROC AUC с <b>62.2%</b> до <font color='red'><b>68.4%</b></font>, на тестовой выборке результат будет аналогичным, так что мы явно не переобучились. При этом есть куда стремиться!"
      ]
    },
    {
      "cell_type": "code",
      "execution_count": 61,
      "metadata": {
        "ExecuteTime": {
          "end_time": "2019-03-05T17:37:28.448839Z",
          "start_time": "2019-03-05T17:37:28.438234Z"
        },
        "tags": [],
        "id": "5Ifhw-5T5qfD"
      },
      "outputs": [],
      "source": [
        "# Сохраняем результат моделирования\n",
        "\n",
        "submission.to_csv('advanced_features_submission.csv')"
      ]
    },
    {
      "cell_type": "markdown",
      "metadata": {
        "id": "hNWTUNio5qfD"
      },
      "source": [
        "### <font color='red'>Цель задания:\n",
        "Полученная модель должна иметь ROC AUC на Public-части тестовой выборки (на лидерборде) <b>не менее 80%."
      ]
    }
  ],
  "metadata": {
    "hide_input": false,
    "kernelspec": {
      "display_name": "Python 3 (ipykernel)",
      "language": "python",
      "name": "python3"
    },
    "language_info": {
      "codemirror_mode": {
        "name": "ipython",
        "version": 3
      },
      "file_extension": ".py",
      "mimetype": "text/x-python",
      "name": "python",
      "nbconvert_exporter": "python",
      "pygments_lexer": "ipython3",
      "version": "3.11.4"
    },
    "varInspector": {
      "cols": {
        "lenName": 16,
        "lenType": 16,
        "lenVar": 40
      },
      "kernels_config": {
        "python": {
          "delete_cmd_postfix": "",
          "delete_cmd_prefix": "del ",
          "library": "var_list.py",
          "varRefreshCmd": "print(var_dic_list())"
        },
        "r": {
          "delete_cmd_postfix": ") ",
          "delete_cmd_prefix": "rm(",
          "library": "var_list.r",
          "varRefreshCmd": "cat(var_dic_list()) "
        }
      },
      "types_to_exclude": [
        "module",
        "function",
        "builtin_function_or_method",
        "instance",
        "_Feature"
      ],
      "window_display": false
    },
    "colab": {
      "provenance": []
    },
    "widgets": {
      "application/vnd.jupyter.widget-state+json": {
        "8e2b652a4e2d4acda18d3c568fe92cc6": {
          "model_module": "@jupyter-widgets/controls",
          "model_name": "HBoxModel",
          "model_module_version": "1.5.0",
          "state": {
            "_dom_classes": [],
            "_model_module": "@jupyter-widgets/controls",
            "_model_module_version": "1.5.0",
            "_model_name": "HBoxModel",
            "_view_count": null,
            "_view_module": "@jupyter-widgets/controls",
            "_view_module_version": "1.5.0",
            "_view_name": "HBoxView",
            "box_style": "",
            "children": [
              "IPY_MODEL_394e7c91ba634b9e840bc9f79cfe72ab",
              "IPY_MODEL_de237bd8166745daa8bb534b589ab547",
              "IPY_MODEL_562bcaf6dc1c4de68061d32e4e6e0c17"
            ],
            "layout": "IPY_MODEL_2abd91b265e44c469a1855f9519394d9"
          }
        },
        "394e7c91ba634b9e840bc9f79cfe72ab": {
          "model_module": "@jupyter-widgets/controls",
          "model_name": "HTMLModel",
          "model_module_version": "1.5.0",
          "state": {
            "_dom_classes": [],
            "_model_module": "@jupyter-widgets/controls",
            "_model_module_version": "1.5.0",
            "_model_name": "HTMLModel",
            "_view_count": null,
            "_view_module": "@jupyter-widgets/controls",
            "_view_module_version": "1.5.0",
            "_view_name": "HTMLView",
            "description": "",
            "description_tooltip": null,
            "layout": "IPY_MODEL_cee605061369493db67c4ae5563eba97",
            "placeholder": "​",
            "style": "IPY_MODEL_ee15bbaad23e434bb9af6245599998f7",
            "value": "Progress: 100%"
          }
        },
        "de237bd8166745daa8bb534b589ab547": {
          "model_module": "@jupyter-widgets/controls",
          "model_name": "FloatProgressModel",
          "model_module_version": "1.5.0",
          "state": {
            "_dom_classes": [],
            "_model_module": "@jupyter-widgets/controls",
            "_model_module_version": "1.5.0",
            "_model_name": "FloatProgressModel",
            "_view_count": null,
            "_view_module": "@jupyter-widgets/controls",
            "_view_module_version": "1.5.0",
            "_view_name": "ProgressView",
            "bar_style": "success",
            "description": "",
            "description_tooltip": null,
            "layout": "IPY_MODEL_9501ba468d80400bb2e099fe2e518249",
            "max": 7427,
            "min": 0,
            "orientation": "horizontal",
            "style": "IPY_MODEL_24275a7c0a7d4e05a9cdb0c47bce33f5",
            "value": 7427
          }
        },
        "562bcaf6dc1c4de68061d32e4e6e0c17": {
          "model_module": "@jupyter-widgets/controls",
          "model_name": "HTMLModel",
          "model_module_version": "1.5.0",
          "state": {
            "_dom_classes": [],
            "_model_module": "@jupyter-widgets/controls",
            "_model_module_version": "1.5.0",
            "_model_name": "HTMLModel",
            "_view_count": null,
            "_view_module": "@jupyter-widgets/controls",
            "_view_module_version": "1.5.0",
            "_view_name": "HTMLView",
            "description": "",
            "description_tooltip": null,
            "layout": "IPY_MODEL_a8ba504eabe0407681c0d5bbf74e3396",
            "placeholder": "​",
            "style": "IPY_MODEL_07b43f8b2ab0413582dceb3af6cb423c",
            "value": " 7427/7427 [00:42&lt;00:00, 194.77it/s]"
          }
        },
        "2abd91b265e44c469a1855f9519394d9": {
          "model_module": "@jupyter-widgets/base",
          "model_name": "LayoutModel",
          "model_module_version": "1.2.0",
          "state": {
            "_model_module": "@jupyter-widgets/base",
            "_model_module_version": "1.2.0",
            "_model_name": "LayoutModel",
            "_view_count": null,
            "_view_module": "@jupyter-widgets/base",
            "_view_module_version": "1.2.0",
            "_view_name": "LayoutView",
            "align_content": null,
            "align_items": null,
            "align_self": null,
            "border": null,
            "bottom": null,
            "display": null,
            "flex": null,
            "flex_flow": null,
            "grid_area": null,
            "grid_auto_columns": null,
            "grid_auto_flow": null,
            "grid_auto_rows": null,
            "grid_column": null,
            "grid_gap": null,
            "grid_row": null,
            "grid_template_areas": null,
            "grid_template_columns": null,
            "grid_template_rows": null,
            "height": null,
            "justify_content": null,
            "justify_items": null,
            "left": null,
            "margin": null,
            "max_height": null,
            "max_width": null,
            "min_height": null,
            "min_width": null,
            "object_fit": null,
            "object_position": null,
            "order": null,
            "overflow": null,
            "overflow_x": null,
            "overflow_y": null,
            "padding": null,
            "right": null,
            "top": null,
            "visibility": null,
            "width": null
          }
        },
        "cee605061369493db67c4ae5563eba97": {
          "model_module": "@jupyter-widgets/base",
          "model_name": "LayoutModel",
          "model_module_version": "1.2.0",
          "state": {
            "_model_module": "@jupyter-widgets/base",
            "_model_module_version": "1.2.0",
            "_model_name": "LayoutModel",
            "_view_count": null,
            "_view_module": "@jupyter-widgets/base",
            "_view_module_version": "1.2.0",
            "_view_name": "LayoutView",
            "align_content": null,
            "align_items": null,
            "align_self": null,
            "border": null,
            "bottom": null,
            "display": null,
            "flex": null,
            "flex_flow": null,
            "grid_area": null,
            "grid_auto_columns": null,
            "grid_auto_flow": null,
            "grid_auto_rows": null,
            "grid_column": null,
            "grid_gap": null,
            "grid_row": null,
            "grid_template_areas": null,
            "grid_template_columns": null,
            "grid_template_rows": null,
            "height": null,
            "justify_content": null,
            "justify_items": null,
            "left": null,
            "margin": null,
            "max_height": null,
            "max_width": null,
            "min_height": null,
            "min_width": null,
            "object_fit": null,
            "object_position": null,
            "order": null,
            "overflow": null,
            "overflow_x": null,
            "overflow_y": null,
            "padding": null,
            "right": null,
            "top": null,
            "visibility": null,
            "width": null
          }
        },
        "ee15bbaad23e434bb9af6245599998f7": {
          "model_module": "@jupyter-widgets/controls",
          "model_name": "DescriptionStyleModel",
          "model_module_version": "1.5.0",
          "state": {
            "_model_module": "@jupyter-widgets/controls",
            "_model_module_version": "1.5.0",
            "_model_name": "DescriptionStyleModel",
            "_view_count": null,
            "_view_module": "@jupyter-widgets/base",
            "_view_module_version": "1.2.0",
            "_view_name": "StyleView",
            "description_width": ""
          }
        },
        "9501ba468d80400bb2e099fe2e518249": {
          "model_module": "@jupyter-widgets/base",
          "model_name": "LayoutModel",
          "model_module_version": "1.2.0",
          "state": {
            "_model_module": "@jupyter-widgets/base",
            "_model_module_version": "1.2.0",
            "_model_name": "LayoutModel",
            "_view_count": null,
            "_view_module": "@jupyter-widgets/base",
            "_view_module_version": "1.2.0",
            "_view_name": "LayoutView",
            "align_content": null,
            "align_items": null,
            "align_self": null,
            "border": null,
            "bottom": null,
            "display": null,
            "flex": null,
            "flex_flow": null,
            "grid_area": null,
            "grid_auto_columns": null,
            "grid_auto_flow": null,
            "grid_auto_rows": null,
            "grid_column": null,
            "grid_gap": null,
            "grid_row": null,
            "grid_template_areas": null,
            "grid_template_columns": null,
            "grid_template_rows": null,
            "height": null,
            "justify_content": null,
            "justify_items": null,
            "left": null,
            "margin": null,
            "max_height": null,
            "max_width": null,
            "min_height": null,
            "min_width": null,
            "object_fit": null,
            "object_position": null,
            "order": null,
            "overflow": null,
            "overflow_x": null,
            "overflow_y": null,
            "padding": null,
            "right": null,
            "top": null,
            "visibility": null,
            "width": null
          }
        },
        "24275a7c0a7d4e05a9cdb0c47bce33f5": {
          "model_module": "@jupyter-widgets/controls",
          "model_name": "ProgressStyleModel",
          "model_module_version": "1.5.0",
          "state": {
            "_model_module": "@jupyter-widgets/controls",
            "_model_module_version": "1.5.0",
            "_model_name": "ProgressStyleModel",
            "_view_count": null,
            "_view_module": "@jupyter-widgets/base",
            "_view_module_version": "1.2.0",
            "_view_name": "StyleView",
            "bar_color": null,
            "description_width": ""
          }
        },
        "a8ba504eabe0407681c0d5bbf74e3396": {
          "model_module": "@jupyter-widgets/base",
          "model_name": "LayoutModel",
          "model_module_version": "1.2.0",
          "state": {
            "_model_module": "@jupyter-widgets/base",
            "_model_module_version": "1.2.0",
            "_model_name": "LayoutModel",
            "_view_count": null,
            "_view_module": "@jupyter-widgets/base",
            "_view_module_version": "1.2.0",
            "_view_name": "LayoutView",
            "align_content": null,
            "align_items": null,
            "align_self": null,
            "border": null,
            "bottom": null,
            "display": null,
            "flex": null,
            "flex_flow": null,
            "grid_area": null,
            "grid_auto_columns": null,
            "grid_auto_flow": null,
            "grid_auto_rows": null,
            "grid_column": null,
            "grid_gap": null,
            "grid_row": null,
            "grid_template_areas": null,
            "grid_template_columns": null,
            "grid_template_rows": null,
            "height": null,
            "justify_content": null,
            "justify_items": null,
            "left": null,
            "margin": null,
            "max_height": null,
            "max_width": null,
            "min_height": null,
            "min_width": null,
            "object_fit": null,
            "object_position": null,
            "order": null,
            "overflow": null,
            "overflow_x": null,
            "overflow_y": null,
            "padding": null,
            "right": null,
            "top": null,
            "visibility": null,
            "width": null
          }
        },
        "07b43f8b2ab0413582dceb3af6cb423c": {
          "model_module": "@jupyter-widgets/controls",
          "model_name": "DescriptionStyleModel",
          "model_module_version": "1.5.0",
          "state": {
            "_model_module": "@jupyter-widgets/controls",
            "_model_module_version": "1.5.0",
            "_model_name": "DescriptionStyleModel",
            "_view_count": null,
            "_view_module": "@jupyter-widgets/base",
            "_view_module_version": "1.2.0",
            "_view_name": "StyleView",
            "description_width": ""
          }
        },
        "ada886bda14c44fd8bb0e18b80c87ce4": {
          "model_module": "@jupyter-widgets/controls",
          "model_name": "HBoxModel",
          "model_module_version": "1.5.0",
          "state": {
            "_dom_classes": [],
            "_model_module": "@jupyter-widgets/controls",
            "_model_module_version": "1.5.0",
            "_model_name": "HBoxModel",
            "_view_count": null,
            "_view_module": "@jupyter-widgets/controls",
            "_view_module_version": "1.5.0",
            "_view_name": "HBoxView",
            "box_style": "",
            "children": [
              "IPY_MODEL_6e5d603ae7a84078be83ddc45b3baa00",
              "IPY_MODEL_9e9d789ef2fb424e8ca9eb9193c4eda3",
              "IPY_MODEL_e46a65b3cd1c4dedb338678e76846cc7"
            ],
            "layout": "IPY_MODEL_3455044e1a564ad68b1e85b3ffbe29ff"
          }
        },
        "6e5d603ae7a84078be83ddc45b3baa00": {
          "model_module": "@jupyter-widgets/controls",
          "model_name": "HTMLModel",
          "model_module_version": "1.5.0",
          "state": {
            "_dom_classes": [],
            "_model_module": "@jupyter-widgets/controls",
            "_model_module_version": "1.5.0",
            "_model_name": "HTMLModel",
            "_view_count": null,
            "_view_module": "@jupyter-widgets/controls",
            "_view_module_version": "1.5.0",
            "_view_name": "HTMLView",
            "description": "",
            "description_tooltip": null,
            "layout": "IPY_MODEL_14ba97ad81ad406fbfb888bf074c5566",
            "placeholder": "​",
            "style": "IPY_MODEL_f9fe932908734232a660e58228cbd696",
            "value": "Progress: 100%"
          }
        },
        "9e9d789ef2fb424e8ca9eb9193c4eda3": {
          "model_module": "@jupyter-widgets/controls",
          "model_name": "FloatProgressModel",
          "model_module_version": "1.5.0",
          "state": {
            "_dom_classes": [],
            "_model_module": "@jupyter-widgets/controls",
            "_model_module_version": "1.5.0",
            "_model_name": "FloatProgressModel",
            "_view_count": null,
            "_view_module": "@jupyter-widgets/controls",
            "_view_module_version": "1.5.0",
            "_view_name": "ProgressView",
            "bar_style": "success",
            "description": "",
            "description_tooltip": null,
            "layout": "IPY_MODEL_c8e7a0b83e384a8ea40f7a9ba01261a4",
            "max": 828,
            "min": 0,
            "orientation": "horizontal",
            "style": "IPY_MODEL_3e893dec014e4d9c9ae418cde701665c",
            "value": 828
          }
        },
        "e46a65b3cd1c4dedb338678e76846cc7": {
          "model_module": "@jupyter-widgets/controls",
          "model_name": "HTMLModel",
          "model_module_version": "1.5.0",
          "state": {
            "_dom_classes": [],
            "_model_module": "@jupyter-widgets/controls",
            "_model_module_version": "1.5.0",
            "_model_name": "HTMLModel",
            "_view_count": null,
            "_view_module": "@jupyter-widgets/controls",
            "_view_module_version": "1.5.0",
            "_view_name": "HTMLView",
            "description": "",
            "description_tooltip": null,
            "layout": "IPY_MODEL_02f89f7bb6734d889ace7a1915dd8d12",
            "placeholder": "​",
            "style": "IPY_MODEL_ffa34d6a441a41d0bd6b02566b629493",
            "value": " 828/828 [00:04&lt;00:00, 200.33it/s]"
          }
        },
        "3455044e1a564ad68b1e85b3ffbe29ff": {
          "model_module": "@jupyter-widgets/base",
          "model_name": "LayoutModel",
          "model_module_version": "1.2.0",
          "state": {
            "_model_module": "@jupyter-widgets/base",
            "_model_module_version": "1.2.0",
            "_model_name": "LayoutModel",
            "_view_count": null,
            "_view_module": "@jupyter-widgets/base",
            "_view_module_version": "1.2.0",
            "_view_name": "LayoutView",
            "align_content": null,
            "align_items": null,
            "align_self": null,
            "border": null,
            "bottom": null,
            "display": null,
            "flex": null,
            "flex_flow": null,
            "grid_area": null,
            "grid_auto_columns": null,
            "grid_auto_flow": null,
            "grid_auto_rows": null,
            "grid_column": null,
            "grid_gap": null,
            "grid_row": null,
            "grid_template_areas": null,
            "grid_template_columns": null,
            "grid_template_rows": null,
            "height": null,
            "justify_content": null,
            "justify_items": null,
            "left": null,
            "margin": null,
            "max_height": null,
            "max_width": null,
            "min_height": null,
            "min_width": null,
            "object_fit": null,
            "object_position": null,
            "order": null,
            "overflow": null,
            "overflow_x": null,
            "overflow_y": null,
            "padding": null,
            "right": null,
            "top": null,
            "visibility": null,
            "width": null
          }
        },
        "14ba97ad81ad406fbfb888bf074c5566": {
          "model_module": "@jupyter-widgets/base",
          "model_name": "LayoutModel",
          "model_module_version": "1.2.0",
          "state": {
            "_model_module": "@jupyter-widgets/base",
            "_model_module_version": "1.2.0",
            "_model_name": "LayoutModel",
            "_view_count": null,
            "_view_module": "@jupyter-widgets/base",
            "_view_module_version": "1.2.0",
            "_view_name": "LayoutView",
            "align_content": null,
            "align_items": null,
            "align_self": null,
            "border": null,
            "bottom": null,
            "display": null,
            "flex": null,
            "flex_flow": null,
            "grid_area": null,
            "grid_auto_columns": null,
            "grid_auto_flow": null,
            "grid_auto_rows": null,
            "grid_column": null,
            "grid_gap": null,
            "grid_row": null,
            "grid_template_areas": null,
            "grid_template_columns": null,
            "grid_template_rows": null,
            "height": null,
            "justify_content": null,
            "justify_items": null,
            "left": null,
            "margin": null,
            "max_height": null,
            "max_width": null,
            "min_height": null,
            "min_width": null,
            "object_fit": null,
            "object_position": null,
            "order": null,
            "overflow": null,
            "overflow_x": null,
            "overflow_y": null,
            "padding": null,
            "right": null,
            "top": null,
            "visibility": null,
            "width": null
          }
        },
        "f9fe932908734232a660e58228cbd696": {
          "model_module": "@jupyter-widgets/controls",
          "model_name": "DescriptionStyleModel",
          "model_module_version": "1.5.0",
          "state": {
            "_model_module": "@jupyter-widgets/controls",
            "_model_module_version": "1.5.0",
            "_model_name": "DescriptionStyleModel",
            "_view_count": null,
            "_view_module": "@jupyter-widgets/base",
            "_view_module_version": "1.2.0",
            "_view_name": "StyleView",
            "description_width": ""
          }
        },
        "c8e7a0b83e384a8ea40f7a9ba01261a4": {
          "model_module": "@jupyter-widgets/base",
          "model_name": "LayoutModel",
          "model_module_version": "1.2.0",
          "state": {
            "_model_module": "@jupyter-widgets/base",
            "_model_module_version": "1.2.0",
            "_model_name": "LayoutModel",
            "_view_count": null,
            "_view_module": "@jupyter-widgets/base",
            "_view_module_version": "1.2.0",
            "_view_name": "LayoutView",
            "align_content": null,
            "align_items": null,
            "align_self": null,
            "border": null,
            "bottom": null,
            "display": null,
            "flex": null,
            "flex_flow": null,
            "grid_area": null,
            "grid_auto_columns": null,
            "grid_auto_flow": null,
            "grid_auto_rows": null,
            "grid_column": null,
            "grid_gap": null,
            "grid_row": null,
            "grid_template_areas": null,
            "grid_template_columns": null,
            "grid_template_rows": null,
            "height": null,
            "justify_content": null,
            "justify_items": null,
            "left": null,
            "margin": null,
            "max_height": null,
            "max_width": null,
            "min_height": null,
            "min_width": null,
            "object_fit": null,
            "object_position": null,
            "order": null,
            "overflow": null,
            "overflow_x": null,
            "overflow_y": null,
            "padding": null,
            "right": null,
            "top": null,
            "visibility": null,
            "width": null
          }
        },
        "3e893dec014e4d9c9ae418cde701665c": {
          "model_module": "@jupyter-widgets/controls",
          "model_name": "ProgressStyleModel",
          "model_module_version": "1.5.0",
          "state": {
            "_model_module": "@jupyter-widgets/controls",
            "_model_module_version": "1.5.0",
            "_model_name": "ProgressStyleModel",
            "_view_count": null,
            "_view_module": "@jupyter-widgets/base",
            "_view_module_version": "1.2.0",
            "_view_name": "StyleView",
            "bar_color": null,
            "description_width": ""
          }
        },
        "02f89f7bb6734d889ace7a1915dd8d12": {
          "model_module": "@jupyter-widgets/base",
          "model_name": "LayoutModel",
          "model_module_version": "1.2.0",
          "state": {
            "_model_module": "@jupyter-widgets/base",
            "_model_module_version": "1.2.0",
            "_model_name": "LayoutModel",
            "_view_count": null,
            "_view_module": "@jupyter-widgets/base",
            "_view_module_version": "1.2.0",
            "_view_name": "LayoutView",
            "align_content": null,
            "align_items": null,
            "align_self": null,
            "border": null,
            "bottom": null,
            "display": null,
            "flex": null,
            "flex_flow": null,
            "grid_area": null,
            "grid_auto_columns": null,
            "grid_auto_flow": null,
            "grid_auto_rows": null,
            "grid_column": null,
            "grid_gap": null,
            "grid_row": null,
            "grid_template_areas": null,
            "grid_template_columns": null,
            "grid_template_rows": null,
            "height": null,
            "justify_content": null,
            "justify_items": null,
            "left": null,
            "margin": null,
            "max_height": null,
            "max_width": null,
            "min_height": null,
            "min_width": null,
            "object_fit": null,
            "object_position": null,
            "order": null,
            "overflow": null,
            "overflow_x": null,
            "overflow_y": null,
            "padding": null,
            "right": null,
            "top": null,
            "visibility": null,
            "width": null
          }
        },
        "ffa34d6a441a41d0bd6b02566b629493": {
          "model_module": "@jupyter-widgets/controls",
          "model_name": "DescriptionStyleModel",
          "model_module_version": "1.5.0",
          "state": {
            "_model_module": "@jupyter-widgets/controls",
            "_model_module_version": "1.5.0",
            "_model_name": "DescriptionStyleModel",
            "_view_count": null,
            "_view_module": "@jupyter-widgets/base",
            "_view_module_version": "1.2.0",
            "_view_name": "StyleView",
            "description_width": ""
          }
        },
        "55fc85e36f5b421c8a56656496958aff": {
          "model_module": "@jupyter-widgets/controls",
          "model_name": "HBoxModel",
          "model_module_version": "1.5.0",
          "state": {
            "_dom_classes": [],
            "_model_module": "@jupyter-widgets/controls",
            "_model_module_version": "1.5.0",
            "_model_name": "HBoxModel",
            "_view_count": null,
            "_view_module": "@jupyter-widgets/controls",
            "_view_module_version": "1.5.0",
            "_view_name": "HBoxView",
            "box_style": "",
            "children": [
              "IPY_MODEL_88337e6130bc4e8eaba15c9bdc9e5cfa",
              "IPY_MODEL_cd7d869722404011b44e15039647671b",
              "IPY_MODEL_7f6452485a6944a0a787607f4aaef6da"
            ],
            "layout": "IPY_MODEL_fc7c97ab9f934691b42822529a6cfe55"
          }
        },
        "88337e6130bc4e8eaba15c9bdc9e5cfa": {
          "model_module": "@jupyter-widgets/controls",
          "model_name": "HTMLModel",
          "model_module_version": "1.5.0",
          "state": {
            "_dom_classes": [],
            "_model_module": "@jupyter-widgets/controls",
            "_model_module_version": "1.5.0",
            "_model_name": "HTMLModel",
            "_view_count": null,
            "_view_module": "@jupyter-widgets/controls",
            "_view_module_version": "1.5.0",
            "_view_name": "HTMLView",
            "description": "",
            "description_tooltip": null,
            "layout": "IPY_MODEL_114c52954fbc45f5a711240a0bb9cfc3",
            "placeholder": "​",
            "style": "IPY_MODEL_22da77add7244275b99d59b2dec42f15",
            "value": "Progress: 100%"
          }
        },
        "cd7d869722404011b44e15039647671b": {
          "model_module": "@jupyter-widgets/controls",
          "model_name": "FloatProgressModel",
          "model_module_version": "1.5.0",
          "state": {
            "_dom_classes": [],
            "_model_module": "@jupyter-widgets/controls",
            "_model_module_version": "1.5.0",
            "_model_name": "FloatProgressModel",
            "_view_count": null,
            "_view_module": "@jupyter-widgets/controls",
            "_view_module_version": "1.5.0",
            "_view_name": "ProgressView",
            "bar_style": "success",
            "description": "",
            "description_tooltip": null,
            "layout": "IPY_MODEL_504d9bf7230246979f18fd144de74c16",
            "max": 7555,
            "min": 0,
            "orientation": "horizontal",
            "style": "IPY_MODEL_7e8ecfa17c7d4bcaa1daf32d8356bf4b",
            "value": 7555
          }
        },
        "7f6452485a6944a0a787607f4aaef6da": {
          "model_module": "@jupyter-widgets/controls",
          "model_name": "HTMLModel",
          "model_module_version": "1.5.0",
          "state": {
            "_dom_classes": [],
            "_model_module": "@jupyter-widgets/controls",
            "_model_module_version": "1.5.0",
            "_model_name": "HTMLModel",
            "_view_count": null,
            "_view_module": "@jupyter-widgets/controls",
            "_view_module_version": "1.5.0",
            "_view_name": "HTMLView",
            "description": "",
            "description_tooltip": null,
            "layout": "IPY_MODEL_d9f59d6b1cb34608b468e98761af1c30",
            "placeholder": "​",
            "style": "IPY_MODEL_79fc8667937446419069518bbfe3d8ce",
            "value": " 7555/7555 [01:33&lt;00:00, 106.67it/s]"
          }
        },
        "fc7c97ab9f934691b42822529a6cfe55": {
          "model_module": "@jupyter-widgets/base",
          "model_name": "LayoutModel",
          "model_module_version": "1.2.0",
          "state": {
            "_model_module": "@jupyter-widgets/base",
            "_model_module_version": "1.2.0",
            "_model_name": "LayoutModel",
            "_view_count": null,
            "_view_module": "@jupyter-widgets/base",
            "_view_module_version": "1.2.0",
            "_view_name": "LayoutView",
            "align_content": null,
            "align_items": null,
            "align_self": null,
            "border": null,
            "bottom": null,
            "display": null,
            "flex": null,
            "flex_flow": null,
            "grid_area": null,
            "grid_auto_columns": null,
            "grid_auto_flow": null,
            "grid_auto_rows": null,
            "grid_column": null,
            "grid_gap": null,
            "grid_row": null,
            "grid_template_areas": null,
            "grid_template_columns": null,
            "grid_template_rows": null,
            "height": null,
            "justify_content": null,
            "justify_items": null,
            "left": null,
            "margin": null,
            "max_height": null,
            "max_width": null,
            "min_height": null,
            "min_width": null,
            "object_fit": null,
            "object_position": null,
            "order": null,
            "overflow": null,
            "overflow_x": null,
            "overflow_y": null,
            "padding": null,
            "right": null,
            "top": null,
            "visibility": null,
            "width": null
          }
        },
        "114c52954fbc45f5a711240a0bb9cfc3": {
          "model_module": "@jupyter-widgets/base",
          "model_name": "LayoutModel",
          "model_module_version": "1.2.0",
          "state": {
            "_model_module": "@jupyter-widgets/base",
            "_model_module_version": "1.2.0",
            "_model_name": "LayoutModel",
            "_view_count": null,
            "_view_module": "@jupyter-widgets/base",
            "_view_module_version": "1.2.0",
            "_view_name": "LayoutView",
            "align_content": null,
            "align_items": null,
            "align_self": null,
            "border": null,
            "bottom": null,
            "display": null,
            "flex": null,
            "flex_flow": null,
            "grid_area": null,
            "grid_auto_columns": null,
            "grid_auto_flow": null,
            "grid_auto_rows": null,
            "grid_column": null,
            "grid_gap": null,
            "grid_row": null,
            "grid_template_areas": null,
            "grid_template_columns": null,
            "grid_template_rows": null,
            "height": null,
            "justify_content": null,
            "justify_items": null,
            "left": null,
            "margin": null,
            "max_height": null,
            "max_width": null,
            "min_height": null,
            "min_width": null,
            "object_fit": null,
            "object_position": null,
            "order": null,
            "overflow": null,
            "overflow_x": null,
            "overflow_y": null,
            "padding": null,
            "right": null,
            "top": null,
            "visibility": null,
            "width": null
          }
        },
        "22da77add7244275b99d59b2dec42f15": {
          "model_module": "@jupyter-widgets/controls",
          "model_name": "DescriptionStyleModel",
          "model_module_version": "1.5.0",
          "state": {
            "_model_module": "@jupyter-widgets/controls",
            "_model_module_version": "1.5.0",
            "_model_name": "DescriptionStyleModel",
            "_view_count": null,
            "_view_module": "@jupyter-widgets/base",
            "_view_module_version": "1.2.0",
            "_view_name": "StyleView",
            "description_width": ""
          }
        },
        "504d9bf7230246979f18fd144de74c16": {
          "model_module": "@jupyter-widgets/base",
          "model_name": "LayoutModel",
          "model_module_version": "1.2.0",
          "state": {
            "_model_module": "@jupyter-widgets/base",
            "_model_module_version": "1.2.0",
            "_model_name": "LayoutModel",
            "_view_count": null,
            "_view_module": "@jupyter-widgets/base",
            "_view_module_version": "1.2.0",
            "_view_name": "LayoutView",
            "align_content": null,
            "align_items": null,
            "align_self": null,
            "border": null,
            "bottom": null,
            "display": null,
            "flex": null,
            "flex_flow": null,
            "grid_area": null,
            "grid_auto_columns": null,
            "grid_auto_flow": null,
            "grid_auto_rows": null,
            "grid_column": null,
            "grid_gap": null,
            "grid_row": null,
            "grid_template_areas": null,
            "grid_template_columns": null,
            "grid_template_rows": null,
            "height": null,
            "justify_content": null,
            "justify_items": null,
            "left": null,
            "margin": null,
            "max_height": null,
            "max_width": null,
            "min_height": null,
            "min_width": null,
            "object_fit": null,
            "object_position": null,
            "order": null,
            "overflow": null,
            "overflow_x": null,
            "overflow_y": null,
            "padding": null,
            "right": null,
            "top": null,
            "visibility": null,
            "width": null
          }
        },
        "7e8ecfa17c7d4bcaa1daf32d8356bf4b": {
          "model_module": "@jupyter-widgets/controls",
          "model_name": "ProgressStyleModel",
          "model_module_version": "1.5.0",
          "state": {
            "_model_module": "@jupyter-widgets/controls",
            "_model_module_version": "1.5.0",
            "_model_name": "ProgressStyleModel",
            "_view_count": null,
            "_view_module": "@jupyter-widgets/base",
            "_view_module_version": "1.2.0",
            "_view_name": "StyleView",
            "bar_color": null,
            "description_width": ""
          }
        },
        "d9f59d6b1cb34608b468e98761af1c30": {
          "model_module": "@jupyter-widgets/base",
          "model_name": "LayoutModel",
          "model_module_version": "1.2.0",
          "state": {
            "_model_module": "@jupyter-widgets/base",
            "_model_module_version": "1.2.0",
            "_model_name": "LayoutModel",
            "_view_count": null,
            "_view_module": "@jupyter-widgets/base",
            "_view_module_version": "1.2.0",
            "_view_name": "LayoutView",
            "align_content": null,
            "align_items": null,
            "align_self": null,
            "border": null,
            "bottom": null,
            "display": null,
            "flex": null,
            "flex_flow": null,
            "grid_area": null,
            "grid_auto_columns": null,
            "grid_auto_flow": null,
            "grid_auto_rows": null,
            "grid_column": null,
            "grid_gap": null,
            "grid_row": null,
            "grid_template_areas": null,
            "grid_template_columns": null,
            "grid_template_rows": null,
            "height": null,
            "justify_content": null,
            "justify_items": null,
            "left": null,
            "margin": null,
            "max_height": null,
            "max_width": null,
            "min_height": null,
            "min_width": null,
            "object_fit": null,
            "object_position": null,
            "order": null,
            "overflow": null,
            "overflow_x": null,
            "overflow_y": null,
            "padding": null,
            "right": null,
            "top": null,
            "visibility": null,
            "width": null
          }
        },
        "79fc8667937446419069518bbfe3d8ce": {
          "model_module": "@jupyter-widgets/controls",
          "model_name": "DescriptionStyleModel",
          "model_module_version": "1.5.0",
          "state": {
            "_model_module": "@jupyter-widgets/controls",
            "_model_module_version": "1.5.0",
            "_model_name": "DescriptionStyleModel",
            "_view_count": null,
            "_view_module": "@jupyter-widgets/base",
            "_view_module_version": "1.2.0",
            "_view_name": "StyleView",
            "description_width": ""
          }
        },
        "9886eed030f54cffa253a12da615caae": {
          "model_module": "@jupyter-widgets/controls",
          "model_name": "HBoxModel",
          "model_module_version": "1.5.0",
          "state": {
            "_dom_classes": [],
            "_model_module": "@jupyter-widgets/controls",
            "_model_module_version": "1.5.0",
            "_model_name": "HBoxModel",
            "_view_count": null,
            "_view_module": "@jupyter-widgets/controls",
            "_view_module_version": "1.5.0",
            "_view_name": "HBoxView",
            "box_style": "",
            "children": [
              "IPY_MODEL_2d3a4bcf2e5b4bb191825b46e6d25130",
              "IPY_MODEL_ee7738ecbe0248b4adf9a0bf1b9ad567",
              "IPY_MODEL_9d15a11a20544abdb9128a7572bc890f"
            ],
            "layout": "IPY_MODEL_f17788df079c40559608cd8964ab5284"
          }
        },
        "2d3a4bcf2e5b4bb191825b46e6d25130": {
          "model_module": "@jupyter-widgets/controls",
          "model_name": "HTMLModel",
          "model_module_version": "1.5.0",
          "state": {
            "_dom_classes": [],
            "_model_module": "@jupyter-widgets/controls",
            "_model_module_version": "1.5.0",
            "_model_name": "HTMLModel",
            "_view_count": null,
            "_view_module": "@jupyter-widgets/controls",
            "_view_module_version": "1.5.0",
            "_view_name": "HTMLView",
            "description": "",
            "description_tooltip": null,
            "layout": "IPY_MODEL_18dce40a319e4480b69e1f62144ef36c",
            "placeholder": "​",
            "style": "IPY_MODEL_187dae058eba4a66b62e196c522ee5d2",
            "value": "Progress: 100%"
          }
        },
        "ee7738ecbe0248b4adf9a0bf1b9ad567": {
          "model_module": "@jupyter-widgets/controls",
          "model_name": "FloatProgressModel",
          "model_module_version": "1.5.0",
          "state": {
            "_dom_classes": [],
            "_model_module": "@jupyter-widgets/controls",
            "_model_module_version": "1.5.0",
            "_model_name": "FloatProgressModel",
            "_view_count": null,
            "_view_module": "@jupyter-widgets/controls",
            "_view_module_version": "1.5.0",
            "_view_name": "ProgressView",
            "bar_style": "success",
            "description": "",
            "description_tooltip": null,
            "layout": "IPY_MODEL_3d2877659c2b45c2a8782cddccc542a4",
            "max": 840,
            "min": 0,
            "orientation": "horizontal",
            "style": "IPY_MODEL_092b0ed7e36944e79803b40a2337a95e",
            "value": 840
          }
        },
        "9d15a11a20544abdb9128a7572bc890f": {
          "model_module": "@jupyter-widgets/controls",
          "model_name": "HTMLModel",
          "model_module_version": "1.5.0",
          "state": {
            "_dom_classes": [],
            "_model_module": "@jupyter-widgets/controls",
            "_model_module_version": "1.5.0",
            "_model_name": "HTMLModel",
            "_view_count": null,
            "_view_module": "@jupyter-widgets/controls",
            "_view_module_version": "1.5.0",
            "_view_name": "HTMLView",
            "description": "",
            "description_tooltip": null,
            "layout": "IPY_MODEL_f4b0f699c7054998b08fc6ca99cdde80",
            "placeholder": "​",
            "style": "IPY_MODEL_fc1b92b96bde42f8abc7004b7c1e1f05",
            "value": " 840/840 [00:09&lt;00:00, 97.03it/s]"
          }
        },
        "f17788df079c40559608cd8964ab5284": {
          "model_module": "@jupyter-widgets/base",
          "model_name": "LayoutModel",
          "model_module_version": "1.2.0",
          "state": {
            "_model_module": "@jupyter-widgets/base",
            "_model_module_version": "1.2.0",
            "_model_name": "LayoutModel",
            "_view_count": null,
            "_view_module": "@jupyter-widgets/base",
            "_view_module_version": "1.2.0",
            "_view_name": "LayoutView",
            "align_content": null,
            "align_items": null,
            "align_self": null,
            "border": null,
            "bottom": null,
            "display": null,
            "flex": null,
            "flex_flow": null,
            "grid_area": null,
            "grid_auto_columns": null,
            "grid_auto_flow": null,
            "grid_auto_rows": null,
            "grid_column": null,
            "grid_gap": null,
            "grid_row": null,
            "grid_template_areas": null,
            "grid_template_columns": null,
            "grid_template_rows": null,
            "height": null,
            "justify_content": null,
            "justify_items": null,
            "left": null,
            "margin": null,
            "max_height": null,
            "max_width": null,
            "min_height": null,
            "min_width": null,
            "object_fit": null,
            "object_position": null,
            "order": null,
            "overflow": null,
            "overflow_x": null,
            "overflow_y": null,
            "padding": null,
            "right": null,
            "top": null,
            "visibility": null,
            "width": null
          }
        },
        "18dce40a319e4480b69e1f62144ef36c": {
          "model_module": "@jupyter-widgets/base",
          "model_name": "LayoutModel",
          "model_module_version": "1.2.0",
          "state": {
            "_model_module": "@jupyter-widgets/base",
            "_model_module_version": "1.2.0",
            "_model_name": "LayoutModel",
            "_view_count": null,
            "_view_module": "@jupyter-widgets/base",
            "_view_module_version": "1.2.0",
            "_view_name": "LayoutView",
            "align_content": null,
            "align_items": null,
            "align_self": null,
            "border": null,
            "bottom": null,
            "display": null,
            "flex": null,
            "flex_flow": null,
            "grid_area": null,
            "grid_auto_columns": null,
            "grid_auto_flow": null,
            "grid_auto_rows": null,
            "grid_column": null,
            "grid_gap": null,
            "grid_row": null,
            "grid_template_areas": null,
            "grid_template_columns": null,
            "grid_template_rows": null,
            "height": null,
            "justify_content": null,
            "justify_items": null,
            "left": null,
            "margin": null,
            "max_height": null,
            "max_width": null,
            "min_height": null,
            "min_width": null,
            "object_fit": null,
            "object_position": null,
            "order": null,
            "overflow": null,
            "overflow_x": null,
            "overflow_y": null,
            "padding": null,
            "right": null,
            "top": null,
            "visibility": null,
            "width": null
          }
        },
        "187dae058eba4a66b62e196c522ee5d2": {
          "model_module": "@jupyter-widgets/controls",
          "model_name": "DescriptionStyleModel",
          "model_module_version": "1.5.0",
          "state": {
            "_model_module": "@jupyter-widgets/controls",
            "_model_module_version": "1.5.0",
            "_model_name": "DescriptionStyleModel",
            "_view_count": null,
            "_view_module": "@jupyter-widgets/base",
            "_view_module_version": "1.2.0",
            "_view_name": "StyleView",
            "description_width": ""
          }
        },
        "3d2877659c2b45c2a8782cddccc542a4": {
          "model_module": "@jupyter-widgets/base",
          "model_name": "LayoutModel",
          "model_module_version": "1.2.0",
          "state": {
            "_model_module": "@jupyter-widgets/base",
            "_model_module_version": "1.2.0",
            "_model_name": "LayoutModel",
            "_view_count": null,
            "_view_module": "@jupyter-widgets/base",
            "_view_module_version": "1.2.0",
            "_view_name": "LayoutView",
            "align_content": null,
            "align_items": null,
            "align_self": null,
            "border": null,
            "bottom": null,
            "display": null,
            "flex": null,
            "flex_flow": null,
            "grid_area": null,
            "grid_auto_columns": null,
            "grid_auto_flow": null,
            "grid_auto_rows": null,
            "grid_column": null,
            "grid_gap": null,
            "grid_row": null,
            "grid_template_areas": null,
            "grid_template_columns": null,
            "grid_template_rows": null,
            "height": null,
            "justify_content": null,
            "justify_items": null,
            "left": null,
            "margin": null,
            "max_height": null,
            "max_width": null,
            "min_height": null,
            "min_width": null,
            "object_fit": null,
            "object_position": null,
            "order": null,
            "overflow": null,
            "overflow_x": null,
            "overflow_y": null,
            "padding": null,
            "right": null,
            "top": null,
            "visibility": null,
            "width": null
          }
        },
        "092b0ed7e36944e79803b40a2337a95e": {
          "model_module": "@jupyter-widgets/controls",
          "model_name": "ProgressStyleModel",
          "model_module_version": "1.5.0",
          "state": {
            "_model_module": "@jupyter-widgets/controls",
            "_model_module_version": "1.5.0",
            "_model_name": "ProgressStyleModel",
            "_view_count": null,
            "_view_module": "@jupyter-widgets/base",
            "_view_module_version": "1.2.0",
            "_view_name": "StyleView",
            "bar_color": null,
            "description_width": ""
          }
        },
        "f4b0f699c7054998b08fc6ca99cdde80": {
          "model_module": "@jupyter-widgets/base",
          "model_name": "LayoutModel",
          "model_module_version": "1.2.0",
          "state": {
            "_model_module": "@jupyter-widgets/base",
            "_model_module_version": "1.2.0",
            "_model_name": "LayoutModel",
            "_view_count": null,
            "_view_module": "@jupyter-widgets/base",
            "_view_module_version": "1.2.0",
            "_view_name": "LayoutView",
            "align_content": null,
            "align_items": null,
            "align_self": null,
            "border": null,
            "bottom": null,
            "display": null,
            "flex": null,
            "flex_flow": null,
            "grid_area": null,
            "grid_auto_columns": null,
            "grid_auto_flow": null,
            "grid_auto_rows": null,
            "grid_column": null,
            "grid_gap": null,
            "grid_row": null,
            "grid_template_areas": null,
            "grid_template_columns": null,
            "grid_template_rows": null,
            "height": null,
            "justify_content": null,
            "justify_items": null,
            "left": null,
            "margin": null,
            "max_height": null,
            "max_width": null,
            "min_height": null,
            "min_width": null,
            "object_fit": null,
            "object_position": null,
            "order": null,
            "overflow": null,
            "overflow_x": null,
            "overflow_y": null,
            "padding": null,
            "right": null,
            "top": null,
            "visibility": null,
            "width": null
          }
        },
        "fc1b92b96bde42f8abc7004b7c1e1f05": {
          "model_module": "@jupyter-widgets/controls",
          "model_name": "DescriptionStyleModel",
          "model_module_version": "1.5.0",
          "state": {
            "_model_module": "@jupyter-widgets/controls",
            "_model_module_version": "1.5.0",
            "_model_name": "DescriptionStyleModel",
            "_view_count": null,
            "_view_module": "@jupyter-widgets/base",
            "_view_module_version": "1.2.0",
            "_view_name": "StyleView",
            "description_width": ""
          }
        }
      }
    }
  },
  "nbformat": 4,
  "nbformat_minor": 0
}